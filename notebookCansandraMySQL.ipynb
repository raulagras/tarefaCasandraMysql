{
 "cells": [
  {
   "cell_type": "markdown",
   "metadata": {},
   "source": [
    "En este cuaderno está todo el código necesario para poder importar y consultar los datos del ejercicio, primero todo el proceso de MySQL y luego Cassandra"
   ]
  },
  {
   "cell_type": "markdown",
   "metadata": {},
   "source": [
    "Carga de datos en MySQL (extracto de los datos, en caso de querer los datos completos ejecutar dataSetGenerator.py y cambiar \"extracto_datos.csv\" por \"datos_educacion.csv\", tomará unos 15 minutos cargar todo)"
   ]
  },
  {
   "cell_type": "code",
   "execution_count": null,
   "metadata": {},
   "outputs": [],
   "source": [
    "import mysql.connector\n",
    "import pandas as pd\n",
    "\n",
    "# Conectar á base de datos MySQL\n",
    "conn = mysql.connector.connect(\n",
    "    host=\"127.0.0.1\",\n",
    "    user=\"root\",\n",
    "    password=\"contraseñasegura\",\n",
    "    database=\"escuela\"\n",
    ")\n",
    "\n",
    "cursor = conn.cursor()\n",
    "\n",
    "# Ler o dataset CSV\n",
    "df = pd.read_csv(\"extracto_datos.csv\",skiprows=1)\n",
    "\n",
    "# Crear a táboa en MySQL\n",
    "cursor.execute(\"\"\"\n",
    "CREATE TABLE IF NOT EXISTS estudiantes (\n",
    "    ID_Estudiante INT PRIMARY KEY,\n",
    "    Nombre VARCHAR(100),\n",
    "    Grado VARCHAR(50),\n",
    "    Materia VARCHAR(50),\n",
    "    Calificacion DECIMAL(3,2),\n",
    "    Asistencia DECIMAL(5,2),\n",
    "    Fecha_Registro DATE\n",
    ")\n",
    "\"\"\")\n",
    "\n",
    "# Insertar os datos en MySQL\n",
    "for _, row in df.iterrows():\n",
    "    cursor.execute(\"\"\"\n",
    "    INSERT INTO estudiantes (ID_Estudiante, Nombre, Grado, Materia, Calificacion, Asistencia, Fecha_Registro)\n",
    "    VALUES (%s, %s, %s, %s, %s, %s, %s)\n",
    "    \"\"\", (row['ID_Estudiante'], row['Nombre'], row['Grado'], row['Materia'], row['Calificación'], row['Asistencia (%)'], row['Fecha_Registro']))\n",
    "\n",
    "conn.commit()\n",
    "cursor.close()\n",
    "conn.close()\n",
    "\n",
    "print(\"Datos cargados en MySQL!\")"
   ]
  },
  {
   "cell_type": "markdown",
   "metadata": {},
   "source": [
    "Consulta de los datos de MySQL"
   ]
  },
  {
   "cell_type": "code",
   "execution_count": 1,
   "metadata": {},
   "outputs": [
    {
     "ename": "AttributeError",
     "evalue": "module 'ssl' has no attribute 'wrap_socket'",
     "output_type": "error",
     "traceback": [
      "\u001b[0;31m---------------------------------------------------------------------------\u001b[0m",
      "\u001b[0;31mAttributeError\u001b[0m                            Traceback (most recent call last)",
      "Cell \u001b[0;32mIn[1], line 5\u001b[0m\n\u001b[1;32m      2\u001b[0m \u001b[38;5;28;01mimport\u001b[39;00m \u001b[38;5;21;01mtime\u001b[39;00m\n\u001b[1;32m      4\u001b[0m \u001b[38;5;66;03m# Conectar a MySQL\u001b[39;00m\n\u001b[0;32m----> 5\u001b[0m conn \u001b[38;5;241m=\u001b[39m \u001b[43mmysql\u001b[49m\u001b[38;5;241;43m.\u001b[39;49m\u001b[43mconnector\u001b[49m\u001b[38;5;241;43m.\u001b[39;49m\u001b[43mconnect\u001b[49m\u001b[43m(\u001b[49m\n\u001b[1;32m      6\u001b[0m \u001b[43m    \u001b[49m\u001b[43mhost\u001b[49m\u001b[38;5;241;43m=\u001b[39;49m\u001b[38;5;124;43m\"\u001b[39;49m\u001b[38;5;124;43mlocalhost\u001b[39;49m\u001b[38;5;124;43m\"\u001b[39;49m\u001b[43m,\u001b[49m\n\u001b[1;32m      7\u001b[0m \u001b[43m    \u001b[49m\u001b[43muser\u001b[49m\u001b[38;5;241;43m=\u001b[39;49m\u001b[38;5;124;43m\"\u001b[39;49m\u001b[38;5;124;43mroot\u001b[39;49m\u001b[38;5;124;43m\"\u001b[39;49m\u001b[43m,\u001b[49m\n\u001b[1;32m      8\u001b[0m \u001b[43m    \u001b[49m\u001b[43mpassword\u001b[49m\u001b[38;5;241;43m=\u001b[39;49m\u001b[38;5;124;43m\"\u001b[39;49m\u001b[38;5;124;43mcontraseñasegura\u001b[39;49m\u001b[38;5;124;43m\"\u001b[39;49m\u001b[43m,\u001b[49m\n\u001b[1;32m      9\u001b[0m \u001b[43m    \u001b[49m\u001b[43mdatabase\u001b[49m\u001b[38;5;241;43m=\u001b[39;49m\u001b[38;5;124;43m\"\u001b[39;49m\u001b[38;5;124;43mescuela\u001b[39;49m\u001b[38;5;124;43m\"\u001b[39;49m\n\u001b[1;32m     10\u001b[0m \u001b[43m)\u001b[49m\n\u001b[1;32m     11\u001b[0m cursor \u001b[38;5;241m=\u001b[39m conn\u001b[38;5;241m.\u001b[39mcursor()\n\u001b[1;32m     13\u001b[0m \u001b[38;5;66;03m# Medir o tempo de execución da consulta\u001b[39;00m\n",
      "File \u001b[0;32m/usr/lib/python3/dist-packages/mysql/connector/__init__.py:173\u001b[0m, in \u001b[0;36mconnect\u001b[0;34m(*args, **kwargs)\u001b[0m\n\u001b[1;32m    171\u001b[0m \u001b[38;5;28;01mif\u001b[39;00m HAVE_CEXT \u001b[38;5;129;01mand\u001b[39;00m \u001b[38;5;129;01mnot\u001b[39;00m use_pure:\n\u001b[1;32m    172\u001b[0m     \u001b[38;5;28;01mreturn\u001b[39;00m CMySQLConnection(\u001b[38;5;241m*\u001b[39margs, \u001b[38;5;241m*\u001b[39m\u001b[38;5;241m*\u001b[39mkwargs)\n\u001b[0;32m--> 173\u001b[0m \u001b[38;5;28;01mreturn\u001b[39;00m \u001b[43mMySQLConnection\u001b[49m\u001b[43m(\u001b[49m\u001b[38;5;241;43m*\u001b[39;49m\u001b[43margs\u001b[49m\u001b[43m,\u001b[49m\u001b[43m \u001b[49m\u001b[38;5;241;43m*\u001b[39;49m\u001b[38;5;241;43m*\u001b[39;49m\u001b[43mkwargs\u001b[49m\u001b[43m)\u001b[49m\n",
      "File \u001b[0;32m/usr/lib/python3/dist-packages/mysql/connector/connection.py:102\u001b[0m, in \u001b[0;36mMySQLConnection.__init__\u001b[0;34m(self, *args, **kwargs)\u001b[0m\n\u001b[1;32m    100\u001b[0m \u001b[38;5;28;01mif\u001b[39;00m kwargs:\n\u001b[1;32m    101\u001b[0m     \u001b[38;5;28;01mtry\u001b[39;00m:\n\u001b[0;32m--> 102\u001b[0m         \u001b[38;5;28;43mself\u001b[39;49m\u001b[38;5;241;43m.\u001b[39;49m\u001b[43mconnect\u001b[49m\u001b[43m(\u001b[49m\u001b[38;5;241;43m*\u001b[39;49m\u001b[38;5;241;43m*\u001b[39;49m\u001b[43mkwargs\u001b[49m\u001b[43m)\u001b[49m\n\u001b[1;32m    103\u001b[0m     \u001b[38;5;28;01mexcept\u001b[39;00m:\n\u001b[1;32m    104\u001b[0m         \u001b[38;5;66;03m# Tidy-up underlying socket on failure\u001b[39;00m\n\u001b[1;32m    105\u001b[0m         \u001b[38;5;28mself\u001b[39m\u001b[38;5;241m.\u001b[39mclose()\n",
      "File \u001b[0;32m/usr/lib/python3/dist-packages/mysql/connector/abstracts.py:735\u001b[0m, in \u001b[0;36mMySQLConnectionAbstract.connect\u001b[0;34m(self, **kwargs)\u001b[0m\n\u001b[1;32m    732\u001b[0m     \u001b[38;5;28mself\u001b[39m\u001b[38;5;241m.\u001b[39mconfig(\u001b[38;5;241m*\u001b[39m\u001b[38;5;241m*\u001b[39mkwargs)\n\u001b[1;32m    734\u001b[0m \u001b[38;5;28mself\u001b[39m\u001b[38;5;241m.\u001b[39mdisconnect()\n\u001b[0;32m--> 735\u001b[0m \u001b[38;5;28;43mself\u001b[39;49m\u001b[38;5;241;43m.\u001b[39;49m\u001b[43m_open_connection\u001b[49m\u001b[43m(\u001b[49m\u001b[43m)\u001b[49m\n\u001b[1;32m    736\u001b[0m \u001b[38;5;28mself\u001b[39m\u001b[38;5;241m.\u001b[39m_post_connection()\n",
      "File \u001b[0;32m/usr/lib/python3/dist-packages/mysql/connector/connection.py:250\u001b[0m, in \u001b[0;36mMySQLConnection._open_connection\u001b[0;34m(self)\u001b[0m\n\u001b[1;32m    248\u001b[0m \u001b[38;5;28mself\u001b[39m\u001b[38;5;241m.\u001b[39m_socket\u001b[38;5;241m.\u001b[39mopen_connection()\n\u001b[1;32m    249\u001b[0m \u001b[38;5;28mself\u001b[39m\u001b[38;5;241m.\u001b[39m_do_handshake()\n\u001b[0;32m--> 250\u001b[0m \u001b[38;5;28;43mself\u001b[39;49m\u001b[38;5;241;43m.\u001b[39;49m\u001b[43m_do_auth\u001b[49m\u001b[43m(\u001b[49m\u001b[38;5;28;43mself\u001b[39;49m\u001b[38;5;241;43m.\u001b[39;49m\u001b[43m_user\u001b[49m\u001b[43m,\u001b[49m\u001b[43m \u001b[49m\u001b[38;5;28;43mself\u001b[39;49m\u001b[38;5;241;43m.\u001b[39;49m\u001b[43m_password\u001b[49m\u001b[43m,\u001b[49m\n\u001b[1;32m    251\u001b[0m \u001b[43m              \u001b[49m\u001b[38;5;28;43mself\u001b[39;49m\u001b[38;5;241;43m.\u001b[39;49m\u001b[43m_database\u001b[49m\u001b[43m,\u001b[49m\u001b[43m \u001b[49m\u001b[38;5;28;43mself\u001b[39;49m\u001b[38;5;241;43m.\u001b[39;49m\u001b[43m_client_flags\u001b[49m\u001b[43m,\u001b[49m\u001b[43m \u001b[49m\u001b[38;5;28;43mself\u001b[39;49m\u001b[38;5;241;43m.\u001b[39;49m\u001b[43m_charset_id\u001b[49m\u001b[43m,\u001b[49m\n\u001b[1;32m    252\u001b[0m \u001b[43m              \u001b[49m\u001b[38;5;28;43mself\u001b[39;49m\u001b[38;5;241;43m.\u001b[39;49m\u001b[43m_ssl\u001b[49m\u001b[43m)\u001b[49m\n\u001b[1;32m    253\u001b[0m \u001b[38;5;28mself\u001b[39m\u001b[38;5;241m.\u001b[39mset_converter_class(\u001b[38;5;28mself\u001b[39m\u001b[38;5;241m.\u001b[39m_converter_class)\n\u001b[1;32m    254\u001b[0m \u001b[38;5;28;01mif\u001b[39;00m \u001b[38;5;28mself\u001b[39m\u001b[38;5;241m.\u001b[39m_client_flags \u001b[38;5;241m&\u001b[39m ClientFlag\u001b[38;5;241m.\u001b[39mCOMPRESS:\n",
      "File \u001b[0;32m/usr/lib/python3/dist-packages/mysql/connector/connection.py:155\u001b[0m, in \u001b[0;36mMySQLConnection._do_auth\u001b[0;34m(self, username, password, database, client_flags, charset, ssl_options)\u001b[0m\n\u001b[1;32m    152\u001b[0m     packet \u001b[38;5;241m=\u001b[39m \u001b[38;5;28mself\u001b[39m\u001b[38;5;241m.\u001b[39m_protocol\u001b[38;5;241m.\u001b[39mmake_auth_ssl(charset\u001b[38;5;241m=\u001b[39mcharset,\n\u001b[1;32m    153\u001b[0m                                           client_flags\u001b[38;5;241m=\u001b[39mclient_flags)\n\u001b[1;32m    154\u001b[0m     \u001b[38;5;28mself\u001b[39m\u001b[38;5;241m.\u001b[39m_socket\u001b[38;5;241m.\u001b[39msend(packet)\n\u001b[0;32m--> 155\u001b[0m     \u001b[38;5;28;43mself\u001b[39;49m\u001b[38;5;241;43m.\u001b[39;49m\u001b[43m_socket\u001b[49m\u001b[38;5;241;43m.\u001b[39;49m\u001b[43mswitch_to_ssl\u001b[49m\u001b[43m(\u001b[49m\u001b[43mssl_options\u001b[49m\u001b[38;5;241;43m.\u001b[39;49m\u001b[43mget\u001b[49m\u001b[43m(\u001b[49m\u001b[38;5;124;43m'\u001b[39;49m\u001b[38;5;124;43mca\u001b[39;49m\u001b[38;5;124;43m'\u001b[39;49m\u001b[43m)\u001b[49m\u001b[43m,\u001b[49m\n\u001b[1;32m    156\u001b[0m \u001b[43m                               \u001b[49m\u001b[43mssl_options\u001b[49m\u001b[38;5;241;43m.\u001b[39;49m\u001b[43mget\u001b[49m\u001b[43m(\u001b[49m\u001b[38;5;124;43m'\u001b[39;49m\u001b[38;5;124;43mcert\u001b[39;49m\u001b[38;5;124;43m'\u001b[39;49m\u001b[43m)\u001b[49m\u001b[43m,\u001b[49m\n\u001b[1;32m    157\u001b[0m \u001b[43m                               \u001b[49m\u001b[43mssl_options\u001b[49m\u001b[38;5;241;43m.\u001b[39;49m\u001b[43mget\u001b[49m\u001b[43m(\u001b[49m\u001b[38;5;124;43m'\u001b[39;49m\u001b[38;5;124;43mkey\u001b[39;49m\u001b[38;5;124;43m'\u001b[39;49m\u001b[43m)\u001b[49m\u001b[43m,\u001b[49m\n\u001b[1;32m    158\u001b[0m \u001b[43m                               \u001b[49m\u001b[43mssl_options\u001b[49m\u001b[38;5;241;43m.\u001b[39;49m\u001b[43mget\u001b[49m\u001b[43m(\u001b[49m\u001b[38;5;124;43m'\u001b[39;49m\u001b[38;5;124;43mverify_cert\u001b[39;49m\u001b[38;5;124;43m'\u001b[39;49m\u001b[43m)\u001b[49m\u001b[43m \u001b[49m\u001b[38;5;129;43;01mor\u001b[39;49;00m\u001b[43m \u001b[49m\u001b[38;5;28;43;01mFalse\u001b[39;49;00m\u001b[43m,\u001b[49m\n\u001b[1;32m    159\u001b[0m \u001b[43m                               \u001b[49m\u001b[43mssl_options\u001b[49m\u001b[38;5;241;43m.\u001b[39;49m\u001b[43mget\u001b[49m\u001b[43m(\u001b[49m\u001b[38;5;124;43m'\u001b[39;49m\u001b[38;5;124;43mverify_identity\u001b[39;49m\u001b[38;5;124;43m'\u001b[39;49m\u001b[43m)\u001b[49m\u001b[43m \u001b[49m\u001b[38;5;129;43;01mor\u001b[39;49;00m\n\u001b[1;32m    160\u001b[0m \u001b[43m                               \u001b[49m\u001b[38;5;28;43;01mFalse\u001b[39;49;00m\u001b[43m,\u001b[49m\n\u001b[1;32m    161\u001b[0m \u001b[43m                               \u001b[49m\u001b[43mssl_options\u001b[49m\u001b[38;5;241;43m.\u001b[39;49m\u001b[43mget\u001b[49m\u001b[43m(\u001b[49m\u001b[38;5;124;43m'\u001b[39;49m\u001b[38;5;124;43mcipher\u001b[39;49m\u001b[38;5;124;43m'\u001b[39;49m\u001b[43m)\u001b[49m\u001b[43m,\u001b[49m\n\u001b[1;32m    162\u001b[0m \u001b[43m                               \u001b[49m\u001b[43mssl_options\u001b[49m\u001b[38;5;241;43m.\u001b[39;49m\u001b[43mget\u001b[49m\u001b[43m(\u001b[49m\u001b[38;5;124;43m'\u001b[39;49m\u001b[38;5;124;43mversion\u001b[39;49m\u001b[38;5;124;43m'\u001b[39;49m\u001b[43m,\u001b[49m\u001b[43m \u001b[49m\u001b[38;5;28;43;01mNone\u001b[39;49;00m\u001b[43m)\u001b[49m\u001b[43m)\u001b[49m\n\u001b[1;32m    163\u001b[0m     \u001b[38;5;28mself\u001b[39m\u001b[38;5;241m.\u001b[39m_ssl_active \u001b[38;5;241m=\u001b[39m \u001b[38;5;28;01mTrue\u001b[39;00m\n\u001b[1;32m    165\u001b[0m packet \u001b[38;5;241m=\u001b[39m \u001b[38;5;28mself\u001b[39m\u001b[38;5;241m.\u001b[39m_protocol\u001b[38;5;241m.\u001b[39mmake_auth(\n\u001b[1;32m    166\u001b[0m     handshake\u001b[38;5;241m=\u001b[39m\u001b[38;5;28mself\u001b[39m\u001b[38;5;241m.\u001b[39m_handshake,\n\u001b[1;32m    167\u001b[0m     username\u001b[38;5;241m=\u001b[39musername, password\u001b[38;5;241m=\u001b[39mpassword, database\u001b[38;5;241m=\u001b[39mdatabase,\n\u001b[1;32m    168\u001b[0m     charset\u001b[38;5;241m=\u001b[39mcharset, client_flags\u001b[38;5;241m=\u001b[39mclient_flags,\n\u001b[1;32m    169\u001b[0m     ssl_enabled\u001b[38;5;241m=\u001b[39m\u001b[38;5;28mself\u001b[39m\u001b[38;5;241m.\u001b[39m_ssl_active,\n\u001b[1;32m    170\u001b[0m     auth_plugin\u001b[38;5;241m=\u001b[39m\u001b[38;5;28mself\u001b[39m\u001b[38;5;241m.\u001b[39m_auth_plugin)\n",
      "File \u001b[0;32m/usr/lib/python3/dist-packages/mysql/connector/network.py:427\u001b[0m, in \u001b[0;36mBaseMySQLSocket.switch_to_ssl\u001b[0;34m(self, ca, cert, key, verify_cert, verify_identity, cipher, ssl_version)\u001b[0m\n\u001b[1;32m    424\u001b[0m     cert_reqs \u001b[38;5;241m=\u001b[39m ssl\u001b[38;5;241m.\u001b[39mCERT_NONE\n\u001b[1;32m    426\u001b[0m \u001b[38;5;28;01mif\u001b[39;00m ssl_version \u001b[38;5;129;01mis\u001b[39;00m \u001b[38;5;28;01mNone\u001b[39;00m:\n\u001b[0;32m--> 427\u001b[0m     \u001b[38;5;28mself\u001b[39m\u001b[38;5;241m.\u001b[39msock \u001b[38;5;241m=\u001b[39m \u001b[43mssl\u001b[49m\u001b[38;5;241;43m.\u001b[39;49m\u001b[43mwrap_socket\u001b[49m(\n\u001b[1;32m    428\u001b[0m         \u001b[38;5;28mself\u001b[39m\u001b[38;5;241m.\u001b[39msock, keyfile\u001b[38;5;241m=\u001b[39mkey, certfile\u001b[38;5;241m=\u001b[39mcert, ca_certs\u001b[38;5;241m=\u001b[39mca,\n\u001b[1;32m    429\u001b[0m         cert_reqs\u001b[38;5;241m=\u001b[39mcert_reqs, do_handshake_on_connect\u001b[38;5;241m=\u001b[39m\u001b[38;5;28;01mFalse\u001b[39;00m,\n\u001b[1;32m    430\u001b[0m         ciphers\u001b[38;5;241m=\u001b[39mcipher)\n\u001b[1;32m    431\u001b[0m \u001b[38;5;28;01melse\u001b[39;00m:\n\u001b[1;32m    432\u001b[0m     \u001b[38;5;28mself\u001b[39m\u001b[38;5;241m.\u001b[39msock \u001b[38;5;241m=\u001b[39m ssl\u001b[38;5;241m.\u001b[39mwrap_socket(\n\u001b[1;32m    433\u001b[0m         \u001b[38;5;28mself\u001b[39m\u001b[38;5;241m.\u001b[39msock, keyfile\u001b[38;5;241m=\u001b[39mkey, certfile\u001b[38;5;241m=\u001b[39mcert, ca_certs\u001b[38;5;241m=\u001b[39mca,\n\u001b[1;32m    434\u001b[0m         cert_reqs\u001b[38;5;241m=\u001b[39mcert_reqs, do_handshake_on_connect\u001b[38;5;241m=\u001b[39m\u001b[38;5;28;01mFalse\u001b[39;00m,\n\u001b[1;32m    435\u001b[0m         ssl_version\u001b[38;5;241m=\u001b[39mssl_version, ciphers\u001b[38;5;241m=\u001b[39mcipher)\n",
      "\u001b[0;31mAttributeError\u001b[0m: module 'ssl' has no attribute 'wrap_socket'"
     ]
    }
   ],
   "source": [
    "import mysql.connector\n",
    "import time\n",
    "\n",
    "# Conectar a MySQL\n",
    "conn = mysql.connector.connect(\n",
    "    host=\"localhost\",\n",
    "    user=\"root\",\n",
    "    password=\"contraseñasegura\",\n",
    "    database=\"escuela\"\n",
    ")\n",
    "cursor = conn.cursor()\n",
    "\n",
    "# Medir o tempo de execución da consulta\n",
    "start_time = time.time()\n",
    "cursor.execute(\"SELECT AVG(Calificacion) FROM estudiantes\")\n",
    "avg_mysql = cursor.fetchone()[0]\n",
    "end_time = time.time()\n",
    "\n",
    "print(f\"Media en MySQL: {avg_mysql}\")\n",
    "print(f\"Tempo de execución en MySQL: {end_time - start_time} segundos\")\n",
    "\n",
    "cursor.close()\n",
    "conn.close()"
   ]
  },
  {
   "cell_type": "markdown",
   "metadata": {},
   "source": [
    "Conexion con la base de datos de Cassandra"
   ]
  },
  {
   "cell_type": "code",
   "execution_count": 6,
   "metadata": {},
   "outputs": [],
   "source": [
    "from cassandra.cluster import Cluster\n",
    "import pandas as pd\n",
    "\n",
    "# Conectar a Cassandra\n",
    "cluster = Cluster(['localhost'])\n",
    "session = cluster.connect()\n"
   ]
  },
  {
   "cell_type": "markdown",
   "metadata": {},
   "source": [
    "Carga de datos en Cassandra (extracto de los datos, en caso de querer los datos completos ejecutar dataSetGenerator.py y cambiar \"extracto_datos.csv\" por \"datos_educacion.csv\", tomará unos 15 minutos cargar todo)"
   ]
  },
  {
   "cell_type": "code",
   "execution_count": null,
   "metadata": {},
   "outputs": [],
   "source": [
    "from cassandra.cluster import Cluster\n",
    "import pandas as pd\n",
    "\n",
    "# Conectar a Cassandra\n",
    "cluster = Cluster(['localhost'])\n",
    "session = cluster.connect()\n",
    "\n",
    "# Crear el keyspace y la tabla\n",
    "session.execute(\"\"\"\n",
    "CREATE KEYSPACE IF NOT EXISTS testkeyspace WITH replication = {'class': 'SimpleStrategy', 'replication_factor': 1};\n",
    "\"\"\")\n",
    "session.set_keyspace('testkeyspace')\n",
    "\n",
    "session.execute(\"\"\"\n",
    "CREATE TABLE IF NOT EXISTS estudiantes (\n",
    "    ID_Estudiante INT PRIMARY KEY,\n",
    "    Nombre TEXT,\n",
    "    Grado TEXT,\n",
    "    Materia TEXT,\n",
    "    Calificacion FLOAT,\n",
    "    Asistencia DECIMAL,\n",
    "    Fecha_Registro DATE\n",
    ");\n",
    "\"\"\")\n",
    "\n",
    "# Leer el dataset CSV\n",
    "df = pd.read_csv(\"extracto_datos.csv\")\n",
    "\n",
    "# Insertar los datos\n",
    "for _, row in df.iterrows():\n",
    "    session.execute(\"\"\"\n",
    "    INSERT INTO estudiantes (ID_Estudiante, Nombre, Grado, Materia, Calificacion, Asistencia, Fecha_Registro) \n",
    "    VALUES (%s, %s, %s, %s, %s, %s, %s);\n",
    "    \"\"\", (row['ID_Estudiante'], row['Nombre'], row['Grado'], row['Materia'], row['Calificación'], row['Asistencia (%)'], row['Fecha_Registro']))\n",
    "\n",
    "print(\"Datos cargados en Cassandra!\")\n"
   ]
  },
  {
   "cell_type": "markdown",
   "metadata": {},
   "source": [
    "Consulta en Cassandra"
   ]
  },
  {
   "cell_type": "code",
   "execution_count": 7,
   "metadata": {},
   "outputs": [
    {
     "name": "stdout",
     "output_type": "stream",
     "text": [
      "Ejecutando consulta en Cassandra: SELECT AVG(Calificacion) FROM estudiantes\n",
      "Promedio de Calificación en Cassandra: 5.0042314529418945\n",
      "Tiempo de ejecución en Cassandra: 4.4554736614227295 segundos\n"
     ]
    }
   ],
   "source": [
    "from cassandra.cluster import Cluster\n",
    "import time\n",
    "\n",
    "# Conectar a Cassandra\n",
    "cluster = Cluster(['localhost'])\n",
    "session = cluster.connect('testkeyspace')\n",
    "\n",
    "# Definir la consulta\n",
    "query = \"SELECT AVG(Calificacion) FROM estudiantes\"\n",
    "print(f\"Ejecutando consulta en Cassandra: {query}\")\n",
    "\n",
    "# Medir el tiempo de ejecución de la consulta\n",
    "start_time = time.time()\n",
    "rows = session.execute(query)\n",
    "\n",
    "# Usar 'one()' para obtener la primera fila (única fila) y acceder al valor\n",
    "avg_cassandra = rows.one()[0]  # 'one()' devuelve la primera fila, y [0] es el primer valor de esa fila\n",
    "end_time = time.time()\n",
    "\n",
    "session.shutdown()\n",
    "\n",
    "# Mostrar el resultado\n",
    "print(f\"Promedio de Calificación en Cassandra: {avg_cassandra}\")\n",
    "print(f\"Tiempo de ejecución en Cassandra: {end_time - start_time} segundos\")"
   ]
  },
  {
   "cell_type": "markdown",
   "metadata": {},
   "source": [
    "Preguntas propuestas finales:\n",
    "\n",
    "\n",
    "    ¿Cuál es más rápida?\n",
    "        MySQL: El tiempo de consulta fue de 0.2120361328125 segundos.\n",
    "\n",
    "    ¿Son los resultados los esperados?\n",
    "        La media diverge ligeramente en Cassandra respecto a MySQL.\n",
    "        Promedio de calificación en Cassandra: 5.0042314529418945.\n",
    "        Media en MySQL: 4.997203.\n",
    "\n",
    "    ¿Cómo justificas los resultados?\n",
    "        Esta pequeña diferencia puede deberse al funcionamiento interno de los decimales y redondeos que aplican ambos lenguajes, especialmente considerando el volumen tan grande de datos con el que se calcula la media.\n"
   ]
  }
 ],
 "metadata": {
  "kernelspec": {
   "display_name": "Python 3",
   "language": "python",
   "name": "python3"
  },
  "language_info": {
   "codemirror_mode": {
    "name": "ipython",
    "version": 3
   },
   "file_extension": ".py",
   "mimetype": "text/x-python",
   "name": "python",
   "nbconvert_exporter": "python",
   "pygments_lexer": "ipython3",
   "version": "3.12.3"
  }
 },
 "nbformat": 4,
 "nbformat_minor": 2
}
