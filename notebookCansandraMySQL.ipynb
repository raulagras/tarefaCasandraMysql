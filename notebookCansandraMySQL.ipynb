{
 "cells": [
  {
   "cell_type": "markdown",
   "metadata": {},
   "source": [
    "En este cuaderno está todo el código necesario para poder importar y consultar los datos del ejercicio, primero todo el proceso de MySQL y luego Cassandra"
   ]
  },
  {
   "cell_type": "markdown",
   "metadata": {},
   "source": [
    "Carga de datos en MySQL (extracto de los datos, en caso de querer los datos completos ejecutar dataSetGenerator.py y cambiar \"extracto_datos.csv\" por \"datos_educacion.csv\", tomará unos 15 minutos cargar todo)"
   ]
  },
  {
   "cell_type": "code",
   "execution_count": null,
   "metadata": {},
   "outputs": [],
   "source": [
    "import mysql.connector\n",
    "import pandas as pd\n",
    "\n",
    "# Conectar á base de datos MySQL\n",
    "conn = mysql.connector.connect(\n",
    "    host=\"127.0.0.1\",\n",
    "    user=\"root\",\n",
    "    password=\"contraseñasegura\",\n",
    "    database=\"escuela\"\n",
    ")\n",
    "\n",
    "cursor = conn.cursor()\n",
    "\n",
    "# Ler o dataset CSV\n",
    "df = pd.read_csv(\"extracto_datos.csv\",skiprows=1)\n",
    "\n",
    "# Crear a táboa en MySQL\n",
    "cursor.execute(\"\"\"\n",
    "CREATE TABLE IF NOT EXISTS estudiantes (\n",
    "    ID_Estudiante INT PRIMARY KEY,\n",
    "    Nombre VARCHAR(100),\n",
    "    Grado VARCHAR(50),\n",
    "    Materia VARCHAR(50),\n",
    "    Calificacion DECIMAL(3,2),\n",
    "    Asistencia DECIMAL(5,2),\n",
    "    Fecha_Registro DATE\n",
    ")\n",
    "\"\"\")\n",
    "\n",
    "# Insertar os datos en MySQL\n",
    "for _, row in df.iterrows():\n",
    "    cursor.execute(\"\"\"\n",
    "    INSERT INTO estudiantes (ID_Estudiante, Nombre, Grado, Materia, Calificacion, Asistencia, Fecha_Registro)\n",
    "    VALUES (%s, %s, %s, %s, %s, %s, %s)\n",
    "    \"\"\", (row['ID_Estudiante'], row['Nombre'], row['Grado'], row['Materia'], row['Calificación'], row['Asistencia (%)'], row['Fecha_Registro']))\n",
    "\n",
    "conn.commit()\n",
    "cursor.close()\n",
    "conn.close()\n",
    "\n",
    "print(\"Datos cargados en MySQL!\")"
   ]
  },
  {
   "cell_type": "markdown",
   "metadata": {},
   "source": [
    "Consulta de los datos de MySQL"
   ]
  },
  {
   "cell_type": "code",
   "execution_count": null,
   "metadata": {},
   "outputs": [],
   "source": [
    "import mysql.connector\n",
    "import time\n",
    "\n",
    "# Conectar a MySQL\n",
    "conn = mysql.connector.connect(\n",
    "    host=\"localhost\",\n",
    "    user=\"root\",\n",
    "    password=\"contraseñasegura\",\n",
    "    database=\"escuela\"\n",
    ")\n",
    "cursor = conn.cursor()\n",
    "\n",
    "# Medir o tempo de execución da consulta\n",
    "start_time = time.time()\n",
    "cursor.execute(\"SELECT AVG(Calificacion) FROM estudiantes\")\n",
    "avg_mysql = cursor.fetchone()[0]\n",
    "end_time = time.time()\n",
    "\n",
    "print(f\"Media en MySQL: {avg_mysql}\")\n",
    "print(f\"Tempo de execución en MySQL: {end_time - start_time} segundos\")\n",
    "\n",
    "cursor.close()\n",
    "conn.close()"
   ]
  },
  {
   "cell_type": "markdown",
   "metadata": {},
   "source": [
    "Conexion con la base de datos de Cassandra"
   ]
  },
  {
   "cell_type": "code",
   "execution_count": 6,
   "metadata": {},
   "outputs": [],
   "source": [
    "from cassandra.cluster import Cluster\n",
    "import pandas as pd\n",
    "\n",
    "# Conectar a Cassandra\n",
    "cluster = Cluster(['localhost'])\n",
    "session = cluster.connect()\n"
   ]
  },
  {
   "cell_type": "markdown",
   "metadata": {},
   "source": [
    "Carga de datos en Cassandra (extracto de los datos, en caso de querer los datos completos ejecutar dataSetGenerator.py y cambiar \"extracto_datos.csv\" por \"datos_educacion.csv\", tomará unos 15 minutos cargar todo)"
   ]
  },
  {
   "cell_type": "code",
   "execution_count": null,
   "metadata": {},
   "outputs": [],
   "source": [
    "from cassandra.cluster import Cluster\n",
    "import pandas as pd\n",
    "\n",
    "# Conectar a Cassandra\n",
    "cluster = Cluster(['localhost'])\n",
    "session = cluster.connect()\n",
    "\n",
    "# Crear el keyspace y la tabla\n",
    "session.execute(\"\"\"\n",
    "CREATE KEYSPACE IF NOT EXISTS testkeyspace WITH replication = {'class': 'SimpleStrategy', 'replication_factor': 1};\n",
    "\"\"\")\n",
    "session.set_keyspace('testkeyspace')\n",
    "\n",
    "session.execute(\"\"\"\n",
    "CREATE TABLE IF NOT EXISTS estudiantes (\n",
    "    ID_Estudiante INT PRIMARY KEY,\n",
    "    Nombre TEXT,\n",
    "    Grado TEXT,\n",
    "    Materia TEXT,\n",
    "    Calificacion FLOAT,\n",
    "    Asistencia DECIMAL,\n",
    "    Fecha_Registro DATE\n",
    ");\n",
    "\"\"\")\n",
    "\n",
    "# Leer el dataset CSV\n",
    "df = pd.read_csv(\"extracto_datos.csv\")\n",
    "\n",
    "# Insertar los datos\n",
    "for _, row in df.iterrows():\n",
    "    session.execute(\"\"\"\n",
    "    INSERT INTO estudiantes (ID_Estudiante, Nombre, Grado, Materia, Calificacion, Asistencia, Fecha_Registro) \n",
    "    VALUES (%s, %s, %s, %s, %s, %s, %s);\n",
    "    \"\"\", (row['ID_Estudiante'], row['Nombre'], row['Grado'], row['Materia'], row['Calificación'], row['Asistencia (%)'], row['Fecha_Registro']))\n",
    "\n",
    "print(\"Datos cargados en Cassandra!\")\n"
   ]
  },
  {
   "cell_type": "markdown",
   "metadata": {},
   "source": [
    "Consulta en Cassandra"
   ]
  },
  {
   "cell_type": "code",
   "execution_count": 7,
   "metadata": {},
   "outputs": [
    {
     "name": "stdout",
     "output_type": "stream",
     "text": [
      "Ejecutando consulta en Cassandra: SELECT AVG(Calificacion) FROM estudiantes\n",
      "Promedio de Calificación en Cassandra: 5.0042314529418945\n",
      "Tiempo de ejecución en Cassandra: 4.4554736614227295 segundos\n"
     ]
    }
   ],
   "source": [
    "from cassandra.cluster import Cluster\n",
    "import time\n",
    "\n",
    "# Conectar a Cassandra\n",
    "cluster = Cluster(['localhost'])\n",
    "session = cluster.connect('testkeyspace')\n",
    "\n",
    "# Definir la consulta\n",
    "query = \"SELECT AVG(Calificacion) FROM estudiantes\"\n",
    "print(f\"Ejecutando consulta en Cassandra: {query}\")\n",
    "\n",
    "# Medir el tiempo de ejecución de la consulta\n",
    "start_time = time.time()\n",
    "rows = session.execute(query)\n",
    "\n",
    "# Usar 'one()' para obtener la primera fila (única fila) y acceder al valor\n",
    "avg_cassandra = rows.one()[0]  # 'one()' devuelve la primera fila, y [0] es el primer valor de esa fila\n",
    "end_time = time.time()\n",
    "\n",
    "session.shutdown()\n",
    "\n",
    "# Mostrar el resultado\n",
    "print(f\"Promedio de Calificación en Cassandra: {avg_cassandra}\")\n",
    "print(f\"Tiempo de ejecución en Cassandra: {end_time - start_time} segundos\")"
   ]
  }
 ],
 "metadata": {
  "kernelspec": {
   "display_name": "Python 3",
   "language": "python",
   "name": "python3"
  },
  "language_info": {
   "codemirror_mode": {
    "name": "ipython",
    "version": 3
   },
   "file_extension": ".py",
   "mimetype": "text/x-python",
   "name": "python",
   "nbconvert_exporter": "python",
   "pygments_lexer": "ipython3",
   "version": "3.12.3"
  }
 },
 "nbformat": 4,
 "nbformat_minor": 2
}
